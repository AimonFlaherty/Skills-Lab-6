{
 "cells": [
  {
   "cell_type": "code",
   "execution_count": 4,
   "metadata": {},
   "outputs": [],
   "source": [
    "#VERSION CONTROL LAB\n",
    "#Function cells\n",
    "def name_input():\n",
    "    while True:\n",
    "        val = input(\"Please enter a name: \")\n",
    "        try:\n",
    "            val = int(val)\n",
    "        except ValueError:\n",
    "            try:\n",
    "                val = float(val)\n",
    "            except ValueError:\n",
    "                name = val\n",
    "                return name\n",
    "                \n",
    "    \n",
    "    \n",
    "\n"
   ]
  },
  {
   "cell_type": "code",
   "execution_count": 2,
   "metadata": {},
   "outputs": [],
   "source": [
    "import math\n",
    "from collections import Counter\n",
    "#inp = input(\"Enter your name:\")\n",
    "def calc_entropy(s):\n",
    "    msg = \"Hi {name}, your randomness on the randomness index is {val:.2f}\"\n",
    "    c = Counter(s)\n",
    "    S = 0\n",
    "    for i in c:\n",
    "        p = c[i]/len(s)\n",
    "        S += p*math.log2(p)   \n",
    "    return msg.format(name=s, val=-S)\n",
    "\n",
    "#print(\"Your randomness on the randomness index is {val:.2f}\".format(val=calc_entropy(inp)))"
   ]
  },
  {
   "cell_type": "code",
   "execution_count": 5,
   "metadata": {},
   "outputs": [
    {
     "name": "stdin",
     "output_type": "stream",
     "text": [
      "Please enter a name:  Hello\n"
     ]
    },
    {
     "name": "stdout",
     "output_type": "stream",
     "text": [
      "Hi Hello, your randomness on the randomness index is 1.92\n"
     ]
    }
   ],
   "source": [
    "#Main cells\n",
    "n = name_input()\n",
    "print(calc_entropy(n))"
   ]
  }
 ],
 "metadata": {
  "kernelspec": {
   "display_name": "Python 3 (ipykernel)",
   "language": "python",
   "name": "python3"
  },
  "language_info": {
   "codemirror_mode": {
    "name": "ipython",
    "version": 3
   },
   "file_extension": ".py",
   "mimetype": "text/x-python",
   "name": "python",
   "nbconvert_exporter": "python",
   "pygments_lexer": "ipython3",
   "version": "3.10.2"
  }
 },
 "nbformat": 4,
 "nbformat_minor": 4
}
