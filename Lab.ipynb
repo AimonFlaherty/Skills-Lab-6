{
 "cells": [
  {
   "cell_type": "code",
   "execution_count": 3,
   "metadata": {},
   "outputs": [],
   "source": [
    "#VERSION CONTROL LAB\n",
    "#Function cells\n",
    "def name_input():\n",
    "    while True:\n",
    "        val = input(\"Please enter a name: \")\n",
    "        try:\n",
    "            val = int(val)\n",
    "        except ValueError:\n",
    "            try:\n",
    "                val = float(val)\n",
    "            except ValueError:\n",
    "                name = val\n",
    "                return name\n",
    "                \n",
    "    \n",
    "    \n",
    "\n"
   ]
  },
  {
   "cell_type": "code",
   "execution_count": 4,
   "metadata": {},
   "outputs": [
    {
     "name": "stdin",
     "output_type": "stream",
     "text": [
      "Please enter a name:  AImon\n"
     ]
    },
    {
     "name": "stdout",
     "output_type": "stream",
     "text": [
      "AImon\n"
     ]
    }
   ],
   "source": [
    "#Main cells\n",
    "n = name_input()\n",
    "print(n)"
   ]
  },
  {
   "cell_type": "code",
   "execution_count": null,
   "metadata": {},
   "outputs": [],
   "source": []
  }
 ],
 "metadata": {
  "kernelspec": {
   "display_name": "Python 3",
   "language": "python",
   "name": "python3"
  },
  "language_info": {
   "codemirror_mode": {
    "name": "ipython",
    "version": 3
   },
   "file_extension": ".py",
   "mimetype": "text/x-python",
   "name": "python",
   "nbconvert_exporter": "python",
   "pygments_lexer": "ipython3",
   "version": "3.8.3"
  }
 },
 "nbformat": 4,
 "nbformat_minor": 4
}
